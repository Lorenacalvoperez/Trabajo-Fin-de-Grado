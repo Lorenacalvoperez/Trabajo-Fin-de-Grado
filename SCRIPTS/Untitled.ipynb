{
 "cells": [
  {
   "cell_type": "code",
   "execution_count": 2,
   "id": "8406a334",
   "metadata": {},
   "outputs": [
    {
     "name": "stdout",
     "output_type": "stream",
     "text": [
      "Requirement already satisfied: shiny in c:\\users\\lorena\\anaconda3\\lib\\site-packages (1.2.0)\n",
      "Requirement already satisfied: starlette in c:\\users\\lorena\\anaconda3\\lib\\site-packages (from shiny) (0.41.2)\n",
      "Requirement already satisfied: websockets>=10.0 in c:\\users\\lorena\\anaconda3\\lib\\site-packages (from shiny) (13.1)\n",
      "Requirement already satisfied: uvicorn>=0.16.0 in c:\\users\\lorena\\anaconda3\\lib\\site-packages (from shiny) (0.32.0)\n",
      "Requirement already satisfied: questionary>=2.0.0 in c:\\users\\lorena\\anaconda3\\lib\\site-packages (from shiny) (2.0.1)\n",
      "Requirement already satisfied: watchfiles>=0.18.0 in c:\\users\\lorena\\anaconda3\\lib\\site-packages (from shiny) (0.24.0)\n",
      "Requirement already satisfied: mdit-py-plugins>=0.3.0 in c:\\users\\lorena\\anaconda3\\lib\\site-packages (from shiny) (0.4.2)\n",
      "Requirement already satisfied: packaging>=20.9 in c:\\users\\lorena\\anaconda3\\lib\\site-packages (from shiny) (21.0)\n",
      "Requirement already satisfied: python-multipart in c:\\users\\lorena\\anaconda3\\lib\\site-packages (from shiny) (0.0.17)\n",
      "Requirement already satisfied: typing-extensions>=4.10.0 in c:\\users\\lorena\\anaconda3\\lib\\site-packages (from shiny) (4.12.2)\n",
      "Requirement already satisfied: click>=8.1.4 in c:\\users\\lorena\\anaconda3\\lib\\site-packages (from shiny) (8.1.7)\n",
      "Requirement already satisfied: orjson>=3.10.7 in c:\\users\\lorena\\anaconda3\\lib\\site-packages (from shiny) (3.10.11)\n",
      "Requirement already satisfied: narwhals>=1.10.0 in c:\\users\\lorena\\anaconda3\\lib\\site-packages (from shiny) (1.13.2)\n",
      "Requirement already satisfied: prompt-toolkit in c:\\users\\lorena\\anaconda3\\lib\\site-packages (from shiny) (3.0.20)\n",
      "Requirement already satisfied: appdirs>=1.4.4 in c:\\users\\lorena\\anaconda3\\lib\\site-packages (from shiny) (1.4.4)\n",
      "Requirement already satisfied: htmltools>=0.6.0 in c:\\users\\lorena\\anaconda3\\lib\\site-packages (from shiny) (0.6.0)\n",
      "Requirement already satisfied: markdown-it-py>=1.1.0 in c:\\users\\lorena\\anaconda3\\lib\\site-packages (from shiny) (3.0.0)\n",
      "Requirement already satisfied: asgiref>=3.5.2 in c:\\users\\lorena\\anaconda3\\lib\\site-packages (from shiny) (3.8.1)\n",
      "Requirement already satisfied: linkify-it-py>=1.0 in c:\\users\\lorena\\anaconda3\\lib\\site-packages (from shiny) (2.0.3)\n",
      "Requirement already satisfied: colorama in c:\\users\\lorena\\anaconda3\\lib\\site-packages (from click>=8.1.4->shiny) (0.4.4)\n",
      "Requirement already satisfied: uc-micro-py in c:\\users\\lorena\\anaconda3\\lib\\site-packages (from linkify-it-py>=1.0->shiny) (1.0.3)\n",
      "Requirement already satisfied: mdurl~=0.1 in c:\\users\\lorena\\anaconda3\\lib\\site-packages (from markdown-it-py>=1.1.0->shiny) (0.1.2)\n",
      "Requirement already satisfied: pyparsing>=2.0.2 in c:\\users\\lorena\\anaconda3\\lib\\site-packages (from packaging>=20.9->shiny) (3.0.4)\n",
      "Requirement already satisfied: wcwidth in c:\\users\\lorena\\anaconda3\\lib\\site-packages (from prompt-toolkit->shiny) (0.2.5)\n",
      "Requirement already satisfied: h11>=0.8 in c:\\users\\lorena\\anaconda3\\lib\\site-packages (from uvicorn>=0.16.0->shiny) (0.14.0)\n",
      "Requirement already satisfied: anyio>=3.0.0 in c:\\users\\lorena\\anaconda3\\lib\\site-packages (from watchfiles>=0.18.0->shiny) (4.6.2.post1)\n",
      "Requirement already satisfied: exceptiongroup>=1.0.2 in c:\\users\\lorena\\anaconda3\\lib\\site-packages (from anyio>=3.0.0->watchfiles>=0.18.0->shiny) (1.2.2)\n",
      "Requirement already satisfied: idna>=2.8 in c:\\users\\lorena\\anaconda3\\lib\\site-packages (from anyio>=3.0.0->watchfiles>=0.18.0->shiny) (3.2)\n",
      "Requirement already satisfied: sniffio>=1.1 in c:\\users\\lorena\\anaconda3\\lib\\site-packages (from anyio>=3.0.0->watchfiles>=0.18.0->shiny) (1.2.0)\n",
      "Note: you may need to restart the kernel to use updated packages.\n"
     ]
    }
   ],
   "source": [
    "pip install shiny\n"
   ]
  },
  {
   "cell_type": "code",
   "execution_count": 3,
   "id": "5297b1de",
   "metadata": {},
   "outputs": [
    {
     "name": "stdout",
     "output_type": "stream",
     "text": [
      "Requirement already satisfied: requests in c:\\users\\lorena\\anaconda3\\lib\\site-packages (2.26.0)\n",
      "Requirement already satisfied: pandas in c:\\users\\lorena\\anaconda3\\lib\\site-packages (1.3.4)\n",
      "Requirement already satisfied: plotly in c:\\users\\lorena\\anaconda3\\lib\\site-packages (5.24.1)\n",
      "Requirement already satisfied: charset-normalizer~=2.0.0 in c:\\users\\lorena\\anaconda3\\lib\\site-packages (from requests) (2.0.4)\n",
      "Requirement already satisfied: certifi>=2017.4.17 in c:\\users\\lorena\\anaconda3\\lib\\site-packages (from requests) (2021.10.8)\n",
      "Requirement already satisfied: urllib3<1.27,>=1.21.1 in c:\\users\\lorena\\anaconda3\\lib\\site-packages (from requests) (1.26.7)\n",
      "Requirement already satisfied: idna<4,>=2.5 in c:\\users\\lorena\\anaconda3\\lib\\site-packages (from requests) (3.2)\n",
      "Requirement already satisfied: python-dateutil>=2.7.3 in c:\\users\\lorena\\anaconda3\\lib\\site-packages (from pandas) (2.8.2)\n",
      "Requirement already satisfied: numpy>=1.17.3 in c:\\users\\lorena\\anaconda3\\lib\\site-packages (from pandas) (1.22.4)\n",
      "Requirement already satisfied: pytz>=2017.3 in c:\\users\\lorena\\anaconda3\\lib\\site-packages (from pandas) (2021.3)\n",
      "Requirement already satisfied: packaging in c:\\users\\lorena\\anaconda3\\lib\\site-packages (from plotly) (21.0)\n",
      "Requirement already satisfied: tenacity>=6.2.0 in c:\\users\\lorena\\anaconda3\\lib\\site-packages (from plotly) (9.0.0)\n",
      "Requirement already satisfied: six>=1.5 in c:\\users\\lorena\\anaconda3\\lib\\site-packages (from python-dateutil>=2.7.3->pandas) (1.16.0)\n",
      "Requirement already satisfied: pyparsing>=2.0.2 in c:\\users\\lorena\\anaconda3\\lib\\site-packages (from packaging->plotly) (3.0.4)\n",
      "Note: you may need to restart the kernel to use updated packages.\n"
     ]
    }
   ],
   "source": [
    "pip install requests pandas plotly\n"
   ]
  },
  {
   "cell_type": "code",
   "execution_count": null,
   "id": "c660a9c9",
   "metadata": {},
   "outputs": [],
   "source": []
  }
 ],
 "metadata": {
  "kernelspec": {
   "display_name": "Python 3 (ipykernel)",
   "language": "python",
   "name": "python3"
  },
  "language_info": {
   "codemirror_mode": {
    "name": "ipython",
    "version": 3
   },
   "file_extension": ".py",
   "mimetype": "text/x-python",
   "name": "python",
   "nbconvert_exporter": "python",
   "pygments_lexer": "ipython3",
   "version": "3.9.7"
  }
 },
 "nbformat": 4,
 "nbformat_minor": 5
}
