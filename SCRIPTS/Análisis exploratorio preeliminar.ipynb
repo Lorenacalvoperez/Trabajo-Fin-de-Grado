{
 "cells": [
  {
   "cell_type": "markdown",
   "id": "1d1dbac2-6add-42f6-b4ef-d7285eda4c7f",
   "metadata": {},
   "source": [
    "# Carga de csv necesarios"
   ]
  },
  {
   "cell_type": "code",
   "execution_count": 3,
   "id": "82ecfbdb-c337-4113-86c6-8f2317281436",
   "metadata": {},
   "outputs": [],
   "source": [
    "import pandas as pd\n",
    "\n",
    "# Cargar los archivos CSV en DataFrames\n",
    "df_parkinson = pd.read_csv(\"Datos_Parkinson.csv\")  # Casos de Parkinson\n",
    "df_contaminacion = pd.read_csv(\"Datos_contaminación_aire.csv\")  # Tasa de contaminación\n",
    "df_calidad_agua = pd.read_csv(\"Datos_muertes_agua.csv\")\n",
    "df_plomo = pd.read_csv(\"Datos_exp_plomo.csv\")  # Tasa de carga de enfermedad por exposición al plomo\n",
    "df_pesticidas = pd.read_csv(\"Datos_uso_pepticidas.csv\")  # Uso de pesticidas en toneladas\n",
    "df_precipitaciones = pd.read_csv(\"Datos_precipitaciones.csv\")  # Precipitaciones en mm"
   ]
  },
  {
   "cell_type": "markdown",
   "id": "fd5aec22-9ead-4877-a9af-99d93565586e",
   "metadata": {},
   "source": [
    "## Graficacion de las relaciones entre las variables independientes"
   ]
  },
  {
   "cell_type": "code",
   "execution_count": 2,
   "id": "97a54311-1ac7-42d0-8ba6-739dd38c28dd",
   "metadata": {},
   "outputs": [
    {
     "data": {
      "text/plain": [
       "'\\n# Visualización con mapa de calor\\nplt.figure(figsize=(10, 6))\\nsns.heatmap(correlacion, annot=True, cmap=\\'coolwarm\\', fmt=\".2f\", linewidths=0.5)\\nplt.title(\"Matriz de correlación entre variables independientes\")\\nplt.tight_layout()\\nplt.show()\\n\\n'"
      ]
     },
     "execution_count": 2,
     "metadata": {},
     "output_type": "execute_result"
    }
   ],
   "source": [
    "import pandas as pd\n",
    "import seaborn as sns\n",
    "import matplotlib.pyplot as plt\n",
    "\n",
    "# ---------------------------\n",
    "# 1. CARGA DE DATOS\n",
    "# ---------------------------\n",
    "# Cambia esto por tu ruta real\n",
    "df = pd.read_csv(\"Tabla_modelos.csv\")\n",
    "\n",
    "# ---------------------------\n",
    "# 2. SELECCIÓN DE VARIABLES INDEPENDIENTES\n",
    "# ---------------------------\n",
    "variables_independientes = [\n",
    "    'Contaminacion_aire',\n",
    "    'Exp_plomo',\n",
    "    'Muertes_agua',\n",
    "    'Pesticidas',\n",
    "    'Precipitaciones'\n",
    "]\n",
    "\n",
    "# ---------------------------\n",
    "# 3. MATRIZ DE CORRELACIÓN\n",
    "# ---------------------------\n",
    "correlacion = df[variables_independientes].corr()\n",
    "'''\n",
    "# Visualización con mapa de calor\n",
    "plt.figure(figsize=(10, 6))\n",
    "sns.heatmap(correlacion, annot=True, cmap='coolwarm', fmt=\".2f\", linewidths=0.5)\n",
    "plt.title(\"Matriz de correlación entre variables independientes\")\n",
    "plt.tight_layout()\n",
    "plt.show()\n",
    "\n",
    "'''\n"
   ]
  },
  {
   "cell_type": "markdown",
   "id": "8d98e6fd-6ad5-4778-9109-a2df0fb13c66",
   "metadata": {},
   "source": [
    "## Graficacion de las relaciones entre las variables independientes y la variable dependiente"
   ]
  },
  {
   "cell_type": "code",
   "execution_count": 12,
   "id": "bf1e0e28-1969-4912-8bc7-ca0fa1f5a2fd",
   "metadata": {},
   "outputs": [],
   "source": [
    "import pandas as pd\n",
    "import matplotlib.pyplot as plt\n",
    "import seaborn as sns\n",
    "\n",
    "import pandas as pd\n",
    "import matplotlib.pyplot as plt\n",
    "import seaborn as sns\n",
    "\n",
    "def analizar_relacion_con_parkinson(\n",
    "    archivo_variable,\n",
    "    columna_variable,\n",
    "    etiqueta_x,\n",
    "    titulo_relacion,\n",
    "    titulo_histograma,\n",
    "    mostrar=True\n",
    "):\n",
    "    # Cargar datos\n",
    "    df_parkinson = pd.read_csv(\"Datos_Parkinson.csv\")\n",
    "    df_variable = pd.read_csv(archivo_variable)\n",
    "\n",
    "    # Fusionar por Año y País\n",
    "    df_relacion = df_parkinson.merge(df_variable, on=[\"Año\", \"País\"], how=\"left\")\n",
    "\n",
    "    # 1️⃣ Scatter plot con regresión\n",
    "    plt.figure(figsize=(12, 8))\n",
    "    scatter = plt.scatter(\n",
    "        df_relacion[columna_variable],\n",
    "        df_relacion[\"Parkinson\"],\n",
    "        c=df_relacion[\"Año\"],\n",
    "        cmap=\"viridis\",\n",
    "        alpha=0.7\n",
    "    )\n",
    "    plt.colorbar(scatter, label=\"Año\")\n",
    "    plt.xlabel(etiqueta_x)\n",
    "    plt.ylabel(\"Casos de Parkinson\")\n",
    "    plt.title(titulo_relacion)\n",
    "\n",
    "    sns.regplot(\n",
    "        x=columna_variable,\n",
    "        y=\"Parkinson\",\n",
    "        data=df_relacion,\n",
    "        scatter=False,\n",
    "        lowess=True,\n",
    "        color=\"red\",\n",
    "        line_kws={\"linewidth\": 2}\n",
    "    )\n",
    "\n",
    "    if mostrar:\n",
    "        plt.show()\n",
    "    plt.close()\n",
    "\n",
    "    # 2️⃣ Histograma de distribución\n",
    "    plt.figure(figsize=(6, 4))\n",
    "    sns.histplot(df_relacion[columna_variable], bins=30, kde=True)\n",
    "    plt.xlabel(etiqueta_x)\n",
    "    plt.title(titulo_histograma)\n",
    "\n",
    "    if mostrar:\n",
    "        plt.show()\n",
    "    plt.close()\n",
    "\n"
   ]
  },
  {
   "cell_type": "code",
   "execution_count": null,
   "id": "397f6a8a-dac4-49d5-86ad-36cf60f28e9a",
   "metadata": {},
   "outputs": [],
   "source": [
    "analizar_relacion_con_parkinson(\n",
    "    \"Datos_contaminación_aire.csv\",\n",
    "    \"Contaminacion_aire\",\n",
    "    \"Tasa de Contaminación del Aire\",\n",
    "    \"Contaminación del Aire vs Parkinson\",\n",
    "    \"Distribución de la Contaminación del Aire\"\n",
    ")"
   ]
  },
  {
   "cell_type": "code",
   "execution_count": null,
   "id": "71c1a0e2-4bbf-4610-a149-486fc27769f6",
   "metadata": {},
   "outputs": [],
   "source": [
    "analizar_relacion_con_parkinson(\n",
    "    \"Datos_muertes_agua.csv\",\n",
    "    \"Muertes_agua\",\n",
    "    \"Muertes por Aguas Insalubres\",\n",
    "    \"Muertes por Aguas Insalubres vs Parkinson\",\n",
    "    \"Distribución de Muertes por Agua\"\n",
    ")"
   ]
  },
  {
   "cell_type": "code",
   "execution_count": null,
   "id": "0354b260-f4cc-4edc-af2f-be066d2cf7f2",
   "metadata": {},
   "outputs": [],
   "source": [
    "analizar_relacion_con_parkinson(\n",
    "    \"Datos_exp_plomo.csv\",\n",
    "    \"Exp_plomo\",\n",
    "    \"Carga de enfermedad por exposición al plomo\",\n",
    "    \"Exposición al plomo vs Parkinson\",\n",
    "    \"Distribución de Exposición al Plomo\"\n",
    ")"
   ]
  },
  {
   "cell_type": "code",
   "execution_count": null,
   "id": "4c81b734-45de-4e80-8fab-3d414f776385",
   "metadata": {},
   "outputs": [],
   "source": [
    "analizar_relacion_con_parkinson(\n",
    "    \"Datos_uso_pepticidas.csv\",\n",
    "    \"Pesticidas\",\n",
    "    \"Uso de Pesticidas\",\n",
    "    \"Uso de Pesticidas vs Parkinson\",\n",
    "    \"Distribución del uso de Pesticidas\"\n",
    ")"
   ]
  },
  {
   "cell_type": "code",
   "execution_count": null,
   "id": "ea85b422-359e-4313-b015-6e39fdc0c011",
   "metadata": {},
   "outputs": [],
   "source": [
    "analizar_relacion_con_parkinson(\n",
    "    \"Datos_precipitaciones.csv\",\n",
    "    \"Precipitaciones\",\n",
    "    \"Cantidad de Precipitaciones\",\n",
    "    \"Precipitaciones vs Parkinson\",\n",
    "    \"Distribución de las Precipitaciones\"\n",
    ")"
   ]
  },
  {
   "cell_type": "code",
   "execution_count": null,
   "id": "a3c74746-53ca-4462-aca1-a785935df8ec",
   "metadata": {},
   "outputs": [],
   "source": []
  },
  {
   "cell_type": "code",
   "execution_count": null,
   "id": "88f68b96-b9e7-4782-87bf-12d0ff05abf8",
   "metadata": {},
   "outputs": [],
   "source": []
  }
 ],
 "metadata": {
  "kernelspec": {
   "display_name": "Python 3 (ipykernel)",
   "language": "python",
   "name": "python3"
  },
  "language_info": {
   "codemirror_mode": {
    "name": "ipython",
    "version": 3
   },
   "file_extension": ".py",
   "mimetype": "text/x-python",
   "name": "python",
   "nbconvert_exporter": "python",
   "pygments_lexer": "ipython3",
   "version": "3.10.16"
  }
 },
 "nbformat": 4,
 "nbformat_minor": 5
}
