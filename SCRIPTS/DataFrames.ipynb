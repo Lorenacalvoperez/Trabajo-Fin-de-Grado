{
 "cells": [
  {
   "cell_type": "markdown",
   "id": "d17acdbe",
   "metadata": {},
   "source": [
    "# Obtener los datos del Parkinson"
   ]
  },
  {
   "cell_type": "markdown",
   "id": "7e33a8e1",
   "metadata": {},
   "source": [
    "**APIS**"
   ]
  },
  {
   "cell_type": "code",
   "execution_count": 7,
   "id": "ef512061",
   "metadata": {},
   "outputs": [],
   "source": [
    "import pandas as pd\n",
    "import requests\n",
    "\n",
    "# URLs de la API\n",
    "DATA_URL = \"https://api.ourworldindata.org/v1/indicators/916408.data.json\"\n",
    "METADATA_URL = \"https://api.ourworldindata.org/v1/indicators/916408.metadata.json\"\n",
    "\n"
   ]
  },
  {
   "cell_type": "markdown",
   "id": "d3f03127",
   "metadata": {},
   "source": [
    "**CARGA DE DATOS**"
   ]
  },
  {
   "cell_type": "code",
   "execution_count": 8,
   "id": "36ce0692",
   "metadata": {},
   "outputs": [],
   "source": [
    "def cargar_datos():\n",
    "   \n",
    "    datos = requests.get(DATA_URL).json()  # Datos de casos de Parkinson\n",
    "    metadata = requests.get(METADATA_URL).json()  # Información adicional (años y países)\n",
    "    return datos, metadata\n"
   ]
  },
  {
   "cell_type": "markdown",
   "id": "12238736",
   "metadata": {},
   "source": [
    "**PROCESAR DATOS**"
   ]
  },
  {
   "cell_type": "code",
   "execution_count": 9,
   "id": "784f6412",
   "metadata": {},
   "outputs": [],
   "source": [
    "def procesar_datos(datos, metadata):\n",
    "    \"\"\"Extrae la lista de valores, años disponibles y países desde los datos JSON.\"\"\"\n",
    "    \n",
    "    # Extraer la lista de valores numéricos (casos de Parkinson)\n",
    "    valores = datos[\"values\"]\n",
    "    \n",
    "    # Extraer la lista de años disponibles\n",
    "    años = []\n",
    "    for item in metadata[\"dimensions\"][\"years\"][\"values\"]:\n",
    "        años.append(item[\"id\"])\n",
    "    \n",
    "    # Extraer los países y sus nombres en un diccionario\n",
    "    paises = {}\n",
    "    for item in metadata[\"dimensions\"][\"entities\"][\"values\"]:\n",
    "        paises[item[\"id\"]] = item[\"name\"]\n",
    "    \n",
    "    return valores, años, paises\n"
   ]
  },
  {
   "cell_type": "markdown",
   "id": "7b162825",
   "metadata": {},
   "source": [
    "**CREAR EL DATAFRAME**"
   ]
  },
  {
   "cell_type": "code",
   "execution_count": 10,
   "id": "ee86f80f",
   "metadata": {},
   "outputs": [],
   "source": [
    "def crear_dataframe(valores, años, paises):\n",
    "    \n",
    "    num_años = len(años)\n",
    "    num_valores = len(valores)\n",
    "\n",
    "    if num_valores % num_años == 0:\n",
    "        num_paises = num_valores // num_años\n",
    "        print(f\"Se encontraron datos de {num_paises} países.\")\n",
    "\n",
    "        # Construcción de la tabla con los datos\n",
    "        datos_lista = []\n",
    "        for i in range(num_valores):\n",
    "            año = años[i % num_años]  # Seleccionar el año correspondiente\n",
    "            id_pais = list(paises.keys())[i // num_años]  # Seleccionar el país correspondiente\n",
    "            nombre_pais = paises[id_pais]  # Obtener el nombre del país\n",
    "\n",
    "            # Crear un diccionario con los datos y agregarlo a la lista\n",
    "            fila = {\"Año\": año, \"Casos\": valores[i], \"País\": nombre_pais}\n",
    "            datos_lista.append(fila)\n",
    "\n",
    "        # Convertir la lista de datos en un DataFrame\n",
    "        df = pd.DataFrame(datos_lista)\n",
    "\n",
    "    else:\n",
    "       \n",
    "        # Crear un DataFrame con solo los datos disponibles\n",
    "        df = pd.DataFrame({\"Año\": años[:num_valores], \"Casos\": valores[:num_valores]})\n",
    "        df[\"País\"] = \"Mundo\"\n",
    "\n",
    "    return df"
   ]
  },
  {
   "cell_type": "code",
   "execution_count": 11,
   "id": "27ba9bc8",
   "metadata": {},
   "outputs": [
    {
     "name": "stdout",
     "output_type": "stream",
     "text": [
      "Se encontraron datos de 228 países.\n",
      "    Año      Casos      País\n",
      "0  1990  21.533830  Cambodia\n",
      "1  1991  21.483840  Cambodia\n",
      "2  1992  21.502138  Cambodia\n",
      "3  1993  21.607151  Cambodia\n",
      "4  1994  21.767658  Cambodia\n"
     ]
    }
   ],
   "source": [
    "datos, metadata = cargar_datos()  # Cargar datos desde la API\n",
    "valores, años, paises = procesar_datos(datos, metadata)  # Extraer información\n",
    "df = crear_dataframe(valores, años, paises)  # Crear DataFrame\n",
    "\n",
    "# Mostrar los primeros resultados\n",
    "print(df.head())\n"
   ]
  },
  {
   "cell_type": "code",
   "execution_count": null,
   "id": "cb4202ae",
   "metadata": {},
   "outputs": [],
   "source": []
  }
 ],
 "metadata": {
  "kernelspec": {
   "display_name": "Python 3 (ipykernel)",
   "language": "python",
   "name": "python3"
  },
  "language_info": {
   "codemirror_mode": {
    "name": "ipython",
    "version": 3
   },
   "file_extension": ".py",
   "mimetype": "text/x-python",
   "name": "python",
   "nbconvert_exporter": "python",
   "pygments_lexer": "ipython3",
   "version": "3.9.7"
  }
 },
 "nbformat": 4,
 "nbformat_minor": 5
}
