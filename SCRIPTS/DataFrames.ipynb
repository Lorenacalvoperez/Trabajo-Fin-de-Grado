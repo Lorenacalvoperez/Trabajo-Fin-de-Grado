{
 "cells": [
  {
   "cell_type": "markdown",
   "id": "d17acdbe",
   "metadata": {},
   "source": [
    "# Obtener los datos del Parkinson"
   ]
  },
  {
   "cell_type": "markdown",
   "id": "7e33a8e1",
   "metadata": {},
   "source": [
    "**APIS**"
   ]
  },
  {
   "cell_type": "code",
   "execution_count": 7,
   "id": "ef512061",
   "metadata": {},
   "outputs": [],
   "source": [
    "import pandas as pd\n",
    "import requests\n",
    "\n",
    "# URLs de la API\n",
    "DATA_URL = \"https://api.ourworldindata.org/v1/indicators/916408.data.json\"\n",
    "METADATA_URL = \"https://api.ourworldindata.org/v1/indicators/916408.metadata.json\"\n",
    "\n"
   ]
  },
  {
   "cell_type": "markdown",
   "id": "d3f03127",
   "metadata": {},
   "source": [
    "**CARGA DE DATOS**"
   ]
  },
  {
   "cell_type": "code",
   "execution_count": 4,
   "id": "36ce0692",
   "metadata": {},
   "outputs": [],
   "source": [
    "def cargar_datos():\n",
    "   \n",
    "    datos = requests.get(DATA_URL).json()  # Datos de casos de Parkinson\n",
    "    metadata = requests.get(METADATA_URL).json()  # Información adicional (años y países)\n",
    "    return datos, metadata\n"
   ]
  },
  {
   "cell_type": "markdown",
   "id": "12238736",
   "metadata": {},
   "source": [
    "**PROCESAR DATOS**"
   ]
  },
  {
   "cell_type": "code",
   "execution_count": 9,
   "id": "784f6412",
   "metadata": {},
   "outputs": [],
   "source": [
    "def procesar_datos(datos, metadata):\n",
    "    \"\"\"Extrae la lista de valores, años disponibles y países desde los datos JSON.\"\"\"\n",
    "    \n",
    "    # Extraer la lista de valores numéricos (casos de Parkinson)\n",
    "    valores = datos[\"values\"]\n",
    "    \n",
    "    # Extraer la lista de años disponibles\n",
    "    años = []\n",
    "    for item in metadata[\"dimensions\"][\"years\"][\"values\"]:\n",
    "        años.append(item[\"id\"])\n",
    "    \n",
    "    # Extraer los países y sus nombres en un diccionario\n",
    "    paises = {}\n",
    "    for item in metadata[\"dimensions\"][\"entities\"][\"values\"]:\n",
    "        paises[item[\"id\"]] = item[\"name\"]\n",
    "    \n",
    "    return valores, años, paises\n"
   ]
  },
  {
   "cell_type": "markdown",
   "id": "7b162825",
   "metadata": {},
   "source": [
    "**CREAR EL DATAFRAME**"
   ]
  },
  {
   "cell_type": "code",
   "execution_count": 10,
   "id": "ee86f80f",
   "metadata": {},
   "outputs": [],
   "source": [
    "def crear_dataframe(valores, años, paises):\n",
    "    \n",
    "    num_años = len(años)\n",
    "    num_valores = len(valores)\n",
    "\n",
    "    if num_valores % num_años == 0:\n",
    "        num_paises = num_valores // num_años\n",
    "        print(f\"Se encontraron datos de {num_paises} países.\")\n",
    "\n",
    "        # Construcción de la tabla con los datos\n",
    "        datos_lista = []\n",
    "        for i in range(num_valores):\n",
    "            año = años[i % num_años]  # Seleccionar el año correspondiente\n",
    "            id_pais = list(paises.keys())[i // num_años]  # Seleccionar el país correspondiente\n",
    "            nombre_pais = paises[id_pais]  # Obtener el nombre del país\n",
    "\n",
    "            # Crear un diccionario con los datos y agregarlo a la lista\n",
    "            fila = {\"Año\": año, \"Casos\": valores[i], \"País\": nombre_pais}\n",
    "            datos_lista.append(fila)\n",
    "\n",
    "        # Convertir la lista de datos en un DataFrame\n",
    "        df = pd.DataFrame(datos_lista)\n",
    "\n",
    "    else:\n",
    "       \n",
    "        # Crear un DataFrame con solo los datos disponibles\n",
    "        df = pd.DataFrame({\"Año\": años[:num_valores], \"Casos\": valores[:num_valores]})\n",
    "        df[\"País\"] = \"Mundo\"\n",
    "\n",
    "    return df"
   ]
  },
  {
   "cell_type": "code",
   "execution_count": 11,
   "id": "27ba9bc8",
   "metadata": {},
   "outputs": [
    {
     "name": "stdout",
     "output_type": "stream",
     "text": [
      "Se encontraron datos de 228 países.\n",
      "    Año      Casos      País\n",
      "0  1990  21.533830  Cambodia\n",
      "1  1991  21.483840  Cambodia\n",
      "2  1992  21.502138  Cambodia\n",
      "3  1993  21.607151  Cambodia\n",
      "4  1994  21.767658  Cambodia\n"
     ]
    }
   ],
   "source": [
    "datos, metadata = cargar_datos()  # Cargar datos desde la API\n",
    "valores, años, paises = procesar_datos(datos, metadata)  # Extraer información\n",
    "df = crear_dataframe(valores, años, paises)  # Crear DataFrame\n",
    "\n",
    "# Mostrar los primeros resultados\n",
    "print(df.head())\n"
   ]
  },
  {
   "cell_type": "markdown",
   "id": "120287ce",
   "metadata": {},
   "source": [
    "# Obtener los datos de la variable de calidad de aire (PM2.5)"
   ]
  },
  {
   "cell_type": "markdown",
   "id": "42e15792",
   "metadata": {},
   "source": [
    "**API + CARGA DE DATOS**"
   ]
  },
  {
   "cell_type": "code",
   "execution_count": 1,
   "id": "a43ef715",
   "metadata": {},
   "outputs": [],
   "source": [
    "import pandas as pd\n",
    "import requests\n",
    "\n",
    "\n",
    "def cargar_datos():\n",
    "    \n",
    "    # URL de la API\n",
    "    API_URL = \"https://ghoapi.azureedge.net/api/SDGPM25\"\n",
    "    \n",
    "    # Realizar la solicitud HTTP a la API\n",
    "    response = requests.get(API_URL)\n",
    "    \n",
    "    # Verificar si la respuesta es exitosa\n",
    "    if response.status_code == 200:\n",
    "        # Extraer los datos de la respuesta JSON\n",
    "        data = response.json()[\"value\"]\n",
    "        return data\n",
    "    \n",
    "    # Si la solicitud no es exitosa, retornar None\n",
    "    return None\n"
   ]
  },
  {
   "cell_type": "markdown",
   "id": "df00b292",
   "metadata": {},
   "source": [
    "**CREAR EL DATAFRAME**"
   ]
  },
  {
   "cell_type": "code",
   "execution_count": 2,
   "id": "41c2c875",
   "metadata": {},
   "outputs": [],
   "source": [
    "def crear_dataframe():\n",
    "    \n",
    "    # Cargar los datos desde la API\n",
    "    data = cargar_datos()\n",
    "    \n",
    "    # Si los datos son válidos, convertir a DataFrame\n",
    "    if data:\n",
    "        return pd.DataFrame(data)\n",
    "    \n",
    "    # Si no se obtienen datos válidos, retornar un DataFrame vacío\n",
    "    return pd.DataFrame()\n"
   ]
  },
  {
   "cell_type": "code",
   "execution_count": 3,
   "id": "2cfb1201",
   "metadata": {},
   "outputs": [
    {
     "data": {
      "text/html": [
       "<div>\n",
       "<style scoped>\n",
       "    .dataframe tbody tr th:only-of-type {\n",
       "        vertical-align: middle;\n",
       "    }\n",
       "\n",
       "    .dataframe tbody tr th {\n",
       "        vertical-align: top;\n",
       "    }\n",
       "\n",
       "    .dataframe thead th {\n",
       "        text-align: right;\n",
       "    }\n",
       "</style>\n",
       "<table border=\"1\" class=\"dataframe\">\n",
       "  <thead>\n",
       "    <tr style=\"text-align: right;\">\n",
       "      <th></th>\n",
       "      <th>Id</th>\n",
       "      <th>IndicatorCode</th>\n",
       "      <th>SpatialDimType</th>\n",
       "      <th>SpatialDim</th>\n",
       "      <th>ParentLocationCode</th>\n",
       "      <th>TimeDimType</th>\n",
       "      <th>ParentLocation</th>\n",
       "      <th>Dim1Type</th>\n",
       "      <th>Dim1</th>\n",
       "      <th>TimeDim</th>\n",
       "      <th>...</th>\n",
       "      <th>DataSourceDim</th>\n",
       "      <th>Value</th>\n",
       "      <th>NumericValue</th>\n",
       "      <th>Low</th>\n",
       "      <th>High</th>\n",
       "      <th>Comments</th>\n",
       "      <th>Date</th>\n",
       "      <th>TimeDimensionValue</th>\n",
       "      <th>TimeDimensionBegin</th>\n",
       "      <th>TimeDimensionEnd</th>\n",
       "    </tr>\n",
       "  </thead>\n",
       "  <tbody>\n",
       "    <tr>\n",
       "      <th>0</th>\n",
       "      <td>593</td>\n",
       "      <td>SDGPM25</td>\n",
       "      <td>COUNTRY</td>\n",
       "      <td>AFG</td>\n",
       "      <td>EMR</td>\n",
       "      <td>YEAR</td>\n",
       "      <td>Eastern Mediterranean</td>\n",
       "      <td>RESIDENCEAREATYPE</td>\n",
       "      <td>RESIDENCEAREATYPE_RUR</td>\n",
       "      <td>2010</td>\n",
       "      <td>...</td>\n",
       "      <td>None</td>\n",
       "      <td>61.81 [42.68-87.77]</td>\n",
       "      <td>61.81464</td>\n",
       "      <td>42.68402</td>\n",
       "      <td>87.77431</td>\n",
       "      <td>None</td>\n",
       "      <td>2022-08-12T08:58:50+02:00</td>\n",
       "      <td>2010</td>\n",
       "      <td>2010-01-01T00:00:00+01:00</td>\n",
       "      <td>2010-12-31T00:00:00+01:00</td>\n",
       "    </tr>\n",
       "    <tr>\n",
       "      <th>1</th>\n",
       "      <td>733</td>\n",
       "      <td>SDGPM25</td>\n",
       "      <td>COUNTRY</td>\n",
       "      <td>HRV</td>\n",
       "      <td>EUR</td>\n",
       "      <td>YEAR</td>\n",
       "      <td>Europe</td>\n",
       "      <td>RESIDENCEAREATYPE</td>\n",
       "      <td>RESIDENCEAREATYPE_URB</td>\n",
       "      <td>2019</td>\n",
       "      <td>...</td>\n",
       "      <td>None</td>\n",
       "      <td>15.49 [14.46-16.71]</td>\n",
       "      <td>15.48858</td>\n",
       "      <td>14.46470</td>\n",
       "      <td>16.70997</td>\n",
       "      <td>None</td>\n",
       "      <td>2022-08-12T08:59:37+02:00</td>\n",
       "      <td>2019</td>\n",
       "      <td>2019-01-01T00:00:00+01:00</td>\n",
       "      <td>2019-12-31T00:00:00+01:00</td>\n",
       "    </tr>\n",
       "    <tr>\n",
       "      <th>2</th>\n",
       "      <td>4789</td>\n",
       "      <td>SDGPM25</td>\n",
       "      <td>COUNTRY</td>\n",
       "      <td>SEN</td>\n",
       "      <td>AFR</td>\n",
       "      <td>YEAR</td>\n",
       "      <td>Africa</td>\n",
       "      <td>RESIDENCEAREATYPE</td>\n",
       "      <td>RESIDENCEAREATYPE_URB</td>\n",
       "      <td>2012</td>\n",
       "      <td>...</td>\n",
       "      <td>None</td>\n",
       "      <td>42.88 [25.91-59.55]</td>\n",
       "      <td>42.87830</td>\n",
       "      <td>25.91333</td>\n",
       "      <td>59.54569</td>\n",
       "      <td>None</td>\n",
       "      <td>2022-08-12T09:00:24+02:00</td>\n",
       "      <td>2012</td>\n",
       "      <td>2012-01-01T00:00:00+01:00</td>\n",
       "      <td>2012-12-31T00:00:00+01:00</td>\n",
       "    </tr>\n",
       "    <tr>\n",
       "      <th>3</th>\n",
       "      <td>5552</td>\n",
       "      <td>SDGPM25</td>\n",
       "      <td>COUNTRY</td>\n",
       "      <td>COG</td>\n",
       "      <td>AFR</td>\n",
       "      <td>YEAR</td>\n",
       "      <td>Africa</td>\n",
       "      <td>RESIDENCEAREATYPE</td>\n",
       "      <td>RESIDENCEAREATYPE_TOTL</td>\n",
       "      <td>2019</td>\n",
       "      <td>...</td>\n",
       "      <td>None</td>\n",
       "      <td>29.48 [6.42-102.37]</td>\n",
       "      <td>29.48397</td>\n",
       "      <td>6.41540</td>\n",
       "      <td>102.37134</td>\n",
       "      <td>None</td>\n",
       "      <td>2022-08-12T08:59:14+02:00</td>\n",
       "      <td>2019</td>\n",
       "      <td>2019-01-01T00:00:00+01:00</td>\n",
       "      <td>2019-12-31T00:00:00+01:00</td>\n",
       "    </tr>\n",
       "    <tr>\n",
       "      <th>4</th>\n",
       "      <td>12453</td>\n",
       "      <td>SDGPM25</td>\n",
       "      <td>COUNTRY</td>\n",
       "      <td>SOM</td>\n",
       "      <td>EMR</td>\n",
       "      <td>YEAR</td>\n",
       "      <td>Eastern Mediterranean</td>\n",
       "      <td>RESIDENCEAREATYPE</td>\n",
       "      <td>RESIDENCEAREATYPE_RUR</td>\n",
       "      <td>2016</td>\n",
       "      <td>...</td>\n",
       "      <td>None</td>\n",
       "      <td>14.38 [7.61-24.55]</td>\n",
       "      <td>14.38355</td>\n",
       "      <td>7.60604</td>\n",
       "      <td>24.55173</td>\n",
       "      <td>None</td>\n",
       "      <td>2022-08-12T09:00:28+02:00</td>\n",
       "      <td>2016</td>\n",
       "      <td>2016-01-01T00:00:00+01:00</td>\n",
       "      <td>2016-12-31T00:00:00+01:00</td>\n",
       "    </tr>\n",
       "  </tbody>\n",
       "</table>\n",
       "<p>5 rows × 25 columns</p>\n",
       "</div>"
      ],
      "text/plain": [
       "      Id IndicatorCode SpatialDimType SpatialDim ParentLocationCode  \\\n",
       "0    593       SDGPM25        COUNTRY        AFG                EMR   \n",
       "1    733       SDGPM25        COUNTRY        HRV                EUR   \n",
       "2   4789       SDGPM25        COUNTRY        SEN                AFR   \n",
       "3   5552       SDGPM25        COUNTRY        COG                AFR   \n",
       "4  12453       SDGPM25        COUNTRY        SOM                EMR   \n",
       "\n",
       "  TimeDimType         ParentLocation           Dim1Type  \\\n",
       "0        YEAR  Eastern Mediterranean  RESIDENCEAREATYPE   \n",
       "1        YEAR                 Europe  RESIDENCEAREATYPE   \n",
       "2        YEAR                 Africa  RESIDENCEAREATYPE   \n",
       "3        YEAR                 Africa  RESIDENCEAREATYPE   \n",
       "4        YEAR  Eastern Mediterranean  RESIDENCEAREATYPE   \n",
       "\n",
       "                     Dim1  TimeDim  ... DataSourceDim                Value  \\\n",
       "0   RESIDENCEAREATYPE_RUR     2010  ...          None  61.81 [42.68-87.77]   \n",
       "1   RESIDENCEAREATYPE_URB     2019  ...          None  15.49 [14.46-16.71]   \n",
       "2   RESIDENCEAREATYPE_URB     2012  ...          None  42.88 [25.91-59.55]   \n",
       "3  RESIDENCEAREATYPE_TOTL     2019  ...          None  29.48 [6.42-102.37]   \n",
       "4   RESIDENCEAREATYPE_RUR     2016  ...          None   14.38 [7.61-24.55]   \n",
       "\n",
       "  NumericValue       Low       High Comments                       Date  \\\n",
       "0     61.81464  42.68402   87.77431     None  2022-08-12T08:58:50+02:00   \n",
       "1     15.48858  14.46470   16.70997     None  2022-08-12T08:59:37+02:00   \n",
       "2     42.87830  25.91333   59.54569     None  2022-08-12T09:00:24+02:00   \n",
       "3     29.48397   6.41540  102.37134     None  2022-08-12T08:59:14+02:00   \n",
       "4     14.38355   7.60604   24.55173     None  2022-08-12T09:00:28+02:00   \n",
       "\n",
       "   TimeDimensionValue         TimeDimensionBegin           TimeDimensionEnd  \n",
       "0                2010  2010-01-01T00:00:00+01:00  2010-12-31T00:00:00+01:00  \n",
       "1                2019  2019-01-01T00:00:00+01:00  2019-12-31T00:00:00+01:00  \n",
       "2                2012  2012-01-01T00:00:00+01:00  2012-12-31T00:00:00+01:00  \n",
       "3                2019  2019-01-01T00:00:00+01:00  2019-12-31T00:00:00+01:00  \n",
       "4                2016  2016-01-01T00:00:00+01:00  2016-12-31T00:00:00+01:00  \n",
       "\n",
       "[5 rows x 25 columns]"
      ]
     },
     "execution_count": 3,
     "metadata": {},
     "output_type": "execute_result"
    }
   ],
   "source": [
    "# 3. Mostrar el DataFrame\n",
    "df = crear_dataframe()\n",
    "\n",
    "# Mostrar las primeras filas del DataFrame\n",
    "df.head()  # Esta línea muestra las primeras filas en el notebook"
   ]
  },
  {
   "cell_type": "markdown",
   "id": "95f65757",
   "metadata": {},
   "source": [
    "# Obtener los datos de la variable de calidad de agua (nitratos)"
   ]
  },
  {
   "cell_type": "markdown",
   "id": "9d115981",
   "metadata": {},
   "source": [
    "**PROCESAR DATOS**"
   ]
  },
  {
   "cell_type": "code",
   "execution_count": 1,
   "id": "d25490f7",
   "metadata": {},
   "outputs": [],
   "source": [
    "def procesar_datos(data_response, metadata_response):\n",
    "    \n",
    "    # Lista de valores de concentración de nitratos\n",
    "    valores = data_response[\"values\"]\n",
    "    \n",
    "    # Lista de años disponibles\n",
    "    años = []\n",
    "    for item in metadata_response[\"dimensions\"][\"years\"][\"values\"]:\n",
    "        años.append(item[\"id\"])\n",
    "    \n",
    "    # Diccionario de países con su código y nombre\n",
    "    paises = {}\n",
    "    for item in metadata_response[\"dimensions\"][\"entities\"][\"values\"]:\n",
    "        paises[item[\"id\"]] = item[\"name\"]\n",
    "    \n",
    "    return valores, años, paises"
   ]
  },
  {
   "cell_type": "markdown",
   "id": "bd9efa15",
   "metadata": {},
   "source": [
    "**CREAR DATAFRAME**"
   ]
  },
  {
   "cell_type": "code",
   "execution_count": 2,
   "id": "5641e186",
   "metadata": {},
   "outputs": [],
   "source": [
    "def crear_dataframe(valores, años, paises):\n",
    "    \n",
    "    datos_lista = []\n",
    "    indice_valor = 0  # Índice para recorrer la lista de valores\n",
    "\n",
    "    for id_pais, nombre_pais in paises.items():  # Iterar sobre los países\n",
    "        for año in años:  # Iterar sobre los años disponibles\n",
    "            \n",
    "            if indice_valor < len(valores):\n",
    "                # Agregar el valor correspondiente si aún hay datos disponibles\n",
    "                fila = {\n",
    "                    \"País\": nombre_pais,\n",
    "                    \"Año\": año,\n",
    "                    \"Concentración_Nitratos_mgL\": valores[indice_valor]\n",
    "                }\n",
    "                indice_valor += 1  # Avanzar al siguiente valor\n",
    "            \n",
    "            else:\n",
    "                # Si no hay más valores, completar con None (NaN en pandas)\n",
    "                fila = {\n",
    "                    \"País\": nombre_pais,\n",
    "                    \"Año\": año,\n",
    "                    \"Concentración_Nitratos_mgL\": None\n",
    "                }\n",
    "            \n",
    "            datos_lista.append(fila)  # Agregar la fila a la lista de datos\n",
    "    \n",
    "    # Convertir la lista en un DataFrame de pandas\n",
    "    df = pd.DataFrame(datos_lista)\n",
    "    \n",
    "    return df"
   ]
  },
  {
   "cell_type": "code",
   "execution_count": 7,
   "id": "1f55d42e",
   "metadata": {},
   "outputs": [
    {
     "name": "stdout",
     "output_type": "stream",
     "text": [
      "      País   Año  Concentración_Nitratos_mgL\n",
      "0  Austria  1992                   27.586168\n",
      "1  Austria  1993                   26.506536\n",
      "2  Austria  1994                   26.761826\n",
      "3  Austria  1995                   29.362993\n",
      "4  Austria  1996                   30.037287\n"
     ]
    }
   ],
   "source": [
    "import pandas as pd\n",
    "import requests\n",
    "DATA_URL = \"https://api.ourworldindata.org/v1/indicators/820661.data.json\"\n",
    "METADATA_URL = \"https://api.ourworldindata.org/v1/indicators/820661.metadata.json\"\n",
    "data_response, metadata_response = cargar_datos()  # Obtener datos desde la API\n",
    "valores, años, paises = procesar_datos(data_response, metadata_response)  # Extraer información\n",
    "df = crear_dataframe(valores, años, paises)  # Crear DataFrame estructurado\n",
    "\n",
    "# Mostrar las primeras filas del DataFrame\n",
    "print(df.head())"
   ]
  },
  {
   "cell_type": "code",
   "execution_count": null,
   "id": "fe58ede3",
   "metadata": {},
   "outputs": [],
   "source": []
  }
 ],
 "metadata": {
  "kernelspec": {
   "display_name": "Python 3 (ipykernel)",
   "language": "python",
   "name": "python3"
  },
  "language_info": {
   "codemirror_mode": {
    "name": "ipython",
    "version": 3
   },
   "file_extension": ".py",
   "mimetype": "text/x-python",
   "name": "python",
   "nbconvert_exporter": "python",
   "pygments_lexer": "ipython3",
   "version": "3.9.7"
  }
 },
 "nbformat": 4,
 "nbformat_minor": 5
}
